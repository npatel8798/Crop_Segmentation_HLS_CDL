{
 "cells": [
  {
   "cell_type": "code",
   "execution_count": 1,
   "id": "6909153a-3691-43ec-9bdb-5ae16e660038",
   "metadata": {},
   "outputs": [],
   "source": [
    "import os, sys, copy, time, math, random, numbers, itertools, tqdm, importlib, re\n",
    "import numpy as np\n",
    "import numpy.ma as ma\n",
    "import pandas as pd\n",
    "import matplotlib.pyplot as plt\n",
    "import cv2\n",
    "import rasterio\n",
    "import torch\n",
    "import yaml\n",
    "\n",
    "from sklearn import metrics\n",
    "from skimage import transform as trans\n",
    "from pathlib import Path\n",
    "from collections.abc import Sequence\n",
    "from datetime import datetime, timedelta\n",
    "from scipy.ndimage import rotate\n",
    "import torch.nn as nn\n",
    "import torch.nn.functional as F\n",
    "from torch.nn import init\n",
    "from torch import optim\n",
    "from torch.optim.lr_scheduler import _LRScheduler\n",
    "from torch.utils.data import Dataset, DataLoader\n",
    "from torch.utils.data.sampler import SubsetRandomSampler\n",
    "from torch.utils.tensorboard import SummaryWriter\n",
    "\n",
    "from IPython.core.debugger import set_trace\n",
    "\n",
    "%load_ext autoreload\n",
    "%autoreload 2\n",
    "%matplotlib inline"
   ]
  },
  {
   "cell_type": "code",
   "execution_count": 2,
   "id": "47f0e88e-7f19-4524-b656-089aedee85da",
   "metadata": {},
   "outputs": [],
   "source": [
    "module_path = os.path.abspath(os.path.join('../src'))\n",
    "sys.path.insert(0, module_path)"
   ]
  },
  {
   "cell_type": "code",
   "execution_count": 6,
   "id": "3dcdc7f6-d410-4adb-a3d3-c76ac68ad72f",
   "metadata": {},
   "outputs": [],
   "source": [
    "from src.custom_dataset import CropData\n",
    "from src.models.unet import Unet\n",
    "from src.model_compiler import ModelCompiler\n",
    "from src.custom_loss_functions import *\n",
    "from src.utils import *"
   ]
  },
  {
   "cell_type": "code",
   "execution_count": 7,
   "id": "968c884a-0f4a-425e-b420-4c8d2f9921d8",
   "metadata": {},
   "outputs": [],
   "source": [
    "yaml_config_path = \"default_config.yaml\"  # replace this path to your own config file.\n",
    "num_time_points = 3  # Change this number accordingly if you use a dataset with a different temporal length.\n",
    "\n",
    "with open(yaml_config_path, 'r') as file:\n",
    "    config = yaml.load(file, Loader=yaml.SafeLoader)\n",
    "\n",
    "# Perform multiplication and concatenation for each key in global_stats\n",
    "for key, value in config['global_stats'].items():\n",
    "    config['global_stats'][key] = value * num_time_points"
   ]
  },
  {
   "cell_type": "code",
   "execution_count": 8,
   "id": "d212fb57-d7b8-46ea-8c99-4d69c4574f63",
   "metadata": {},
   "outputs": [
    {
     "name": "stdout",
     "output_type": "stream",
     "text": [
      "{'LR': 0.011,\n",
      " 'LR_policy': 'PolynomialLR',\n",
      " 'apply_normalization': True,\n",
      " 'aug_params': {'rotation_degree': [-180, -90, 90, 180]},\n",
      " 'checkpoint_interval': 20,\n",
      " 'class_mapping': {0: 'Unknown',\n",
      "                   1: 'Natural Vegetation',\n",
      "                   2: 'Forest',\n",
      "                   3: 'Corn',\n",
      "                   4: 'Soybeans',\n",
      "                   5: 'Wetlands',\n",
      "                   6: 'Developed/Barren',\n",
      "                   7: 'Open Water',\n",
      "                   8: 'Winter Wheat',\n",
      "                   9: 'Alfalfa',\n",
      "                   10: 'Fallow/Idle Cropland',\n",
      "                   11: 'Cotton',\n",
      "                   12: 'Sorghum',\n",
      "                   13: 'Other'},\n",
      " 'criterion': {'gamma': 0.9,\n",
      "               'ignore_index': 0,\n",
      "               'name': 'TverskyFocalLoss',\n",
      "               'weight': [0.0182553, 0.03123664, 0.02590038, 0.03026126, 0.04142966, 0.04371284,\n",
      "                          0.15352935, 0.07286951, 0.10277024, 0.10736637, 0.1447082, 0.17132445,\n",
      "                          0.0566358]},\n",
      " 'epochs': 100,\n",
      " 'filter_config': [64, 128, 256, 512, 1024, 1024],\n",
      " 'freeze_params': None,\n",
      " 'global_stats': {'max': [1207.0, 1765.0, 2366.0, 4945.0, 4646.0, 3897.0, 1207.0, 1765.0, 2366.0,\n",
      "                          4945.0, 4646.0, 3897.0, 1207.0, 1765.0, 2366.0, 4945.0, 4646.0, 3897.0],\n",
      "                  'mean': [494.905781, 815.239594, 924.335066, 2968.881459, 2634.621962,\n",
      "                           1739.579917, 494.905781, 815.239594, 924.335066, 2968.881459,\n",
      "                           2634.621962, 1739.579917, 494.905781, 815.239594, 924.335066,\n",
      "                           2968.881459, 2634.621962, 1739.579917],\n",
      "                  'min': [124.0, 308.0, 191.0, 598.0, 423.0, 271.0, 124.0, 308.0, 191.0, 598.0,\n",
      "                          423.0, 271.0, 124.0, 308.0, 191.0, 598.0, 423.0, 271.0],\n",
      "                  'std': [284.925432, 357.84876, 575.566823, 896.601013, 951.900334, 921.407808,\n",
      "                          284.925432, 357.84876, 575.566823, 896.601013, 951.900334, 921.407808,\n",
      "                          284.925432, 357.84876, 575.566823, 896.601013, 951.900334, 921.407808]},\n",
      " 'gpuDevices': [0],\n",
      " 'init_type': 'kaiming',\n",
      " 'input_channels': 18,\n",
      " 'lr_prams': {'base_lr': 3e-05,\n",
      "              'factor': 0.8,\n",
      "              'gamma': 0.98,\n",
      "              'max_decay_steps': 80,\n",
      "              'max_lr': 0.01,\n",
      "              'milestones': [5, 10, 20, 35, 50, 70, 90],\n",
      "              'min_learning_rate': 0.0001,\n",
      "              'min_lr': 3e-06,\n",
      "              'mode': 'triangular',\n",
      "              'patience': 3,\n",
      "              'power': 0.85,\n",
      "              'step_size': 3,\n",
      "              'step_size_up': 1100,\n",
      "              'threshold': 0.0001,\n",
      "              'threshold_mode': 'rel'},\n",
      " 'momentum': 0.95,\n",
      " 'n_classes': 14,\n",
      " 'normal_strategy': 'z_value',\n",
      " 'optimizer': 'sam',\n",
      " 'out_dir': 'output6',\n",
      " 'params_init': None,\n",
      " 'resume': False,\n",
      " 'resume_epoch': None,\n",
      " 'src_dir': '/src',\n",
      " 'stat_procedure': 'gpb',\n",
      " 'test_csv_path': '/home/workdir/test_ids.csv',\n",
      " 'train_BatchSize': 10,\n",
      " 'train_csv_path': '/home/workdir/train_ids.csv',\n",
      " 'train_dataset_name': 'chips_filtered_13_classes_complete',\n",
      " 'train_dropout_rate': 0.15,\n",
      " 'transformations': ['v_flip', 'h_flip', 'd_flip', 'rotate'],\n",
      " 'use_skipAtt': False,\n",
      " 'val_csv_path': '/home/workdir/val_ids.csv',\n",
      " 'val_metric_fname': 'validate_metrics_global_z_gpb.csv',\n",
      " 'val_test_BatchSize': 3,\n",
      " 'working_dir': '/home/workdir'}\n"
     ]
    }
   ],
   "source": [
    "import pprint\n",
    "pprint.pprint(config, width=100, compact=True)"
   ]
  },
  {
   "cell_type": "code",
   "execution_count": null,
   "id": "d4e45d97-aab7-4b33-af71-4b86b37fd7fc",
   "metadata": {},
   "outputs": [],
   "source": [
    "train_dataset = CropData(src_dir=config[\"src_dir\"],\n",
    "                         usage=\"train\",\n",
    "                         dataset_name=config[\"train_dataset_name\"],\n",
    "                         csv_path=config[\"train_csv_path\"],\n",
    "                         apply_normalization=config[\"apply_normalization\"],\n",
    "                         normal_strategy=config[\"normal_strategy\"],\n",
    "                         stat_procedure=config[\"stat_procedure\"],\n",
    "                         global_stats=config[\"global_stats\"],\n",
    "                         trans=config[\"transformations\"], \n",
    "                         **config[\"aug_params\"])"
   ]
  },
  {
   "cell_type": "code",
   "execution_count": null,
   "id": "94089625-7ba0-44eb-8ff2-005b5742cafc",
   "metadata": {},
   "outputs": [],
   "source": [
    "labels_count = get_labels_distribution(train_dataset, num_classes=14, ignore_class=0)\n",
    "plot_labels_distribution(labels_count)"
   ]
  },
  {
   "cell_type": "code",
   "execution_count": null,
   "id": "354a965d-d1c9-47d7-acfe-9c8803b310f1",
   "metadata": {},
   "outputs": [],
   "source": [
    "train_loader = DataLoader(train_dataset,\n",
    "                          batch_size=config[\"train_BatchSize\"], \n",
    "                          shuffle=True)"
   ]
  },
  {
   "cell_type": "code",
   "execution_count": null,
   "id": "237780a8-9550-4067-85c8-1d38bc7dfb4b",
   "metadata": {},
   "outputs": [],
   "source": [
    "val_dataset = CropData(src_dir=config[\"src_dir\"],\n",
    "                       usage=\"validation\",\n",
    "                       dataset_name=config[\"train_dataset_name\"],\n",
    "                       csv_path=config[\"val_csv_path\"],\n",
    "                       apply_normalization=config[\"apply_normalization\"],\n",
    "                       normal_strategy=config[\"normal_strategy\"],\n",
    "                       stat_procedure=config[\"stat_procedure\"],\n",
    "                       global_stats=config[\"global_stats\"],)"
   ]
  },
  {
   "cell_type": "code",
   "execution_count": null,
   "id": "19f7df7c-1268-4a8a-8e5e-069efe55ea4e",
   "metadata": {},
   "outputs": [],
   "source": [
    "labels_count = get_labels_distribution(val_dataset)\n",
    "plot_labels_distribution(labels_count)"
   ]
  },
  {
   "cell_type": "code",
   "execution_count": null,
   "id": "e5905560-718e-4cd8-b42e-00b798913b2d",
   "metadata": {},
   "outputs": [],
   "source": [
    "model = Unet(n_classes=config[\"n_classes\"], \n",
    "             in_channels=config[\"input_channels\"], \n",
    "             use_skipAtt=config[\"use_skipAtt\"],\n",
    "             filter_config=config[\"filter_config\"],\n",
    "             dropout_rate=config[\"train_dropout_rate\"])"
   ]
  },
  {
   "cell_type": "code",
   "execution_count": null,
   "id": "b11dcd64-f909-4d30-85ee-310dc05b4050",
   "metadata": {},
   "outputs": [],
   "source": [
    "compiled_model = ModelCompiler(model,\n",
    "                               working_dir=config[\"working_dir\"],\n",
    "                               out_dir=config[\"out_dir\"],\n",
    "                               num_classes=config[\"n_classes\"],\n",
    "                               inch=config[\"input_channels\"],\n",
    "                               class_mapping=config[\"class_mapping\"],\n",
    "                               gpu_devices=config[\"gpuDevices\"],\n",
    "                               model_init_type=config[\"init_type\"], \n",
    "                               params_init=config[\"params_init\"],\n",
    "                               freeze_params=config[\"freeze_params\"])"
   ]
  },
  {
   "cell_type": "code",
   "execution_count": null,
   "id": "256c82af-d264-44de-ac3a-888415d133d8",
   "metadata": {},
   "outputs": [],
   "source": [
    "criterion_name = config['criterion']['name']\n",
    "weight = config['criterion']['weight']\n",
    "ignore_index = config['criterion']['ignore_index']\n",
    "gamma = config['criterion']['gamma']\n",
    "\n",
    "if criterion_name == 'TverskyFocalLoss':\n",
    "    criterion = TverskyFocalLoss(weight=weight, ignore_index=ignore_index, gamma=gamma)\n",
    "else:\n",
    "    criterion = nn.CrossEntropyLoss(weight=weight, ignore_index=ignore_index)\n",
    "    \n",
    "\n",
    "compiled_model.fit(train_loader,\n",
    "                   val_loader, \n",
    "                   epochs=config[\"epochs\"], \n",
    "                   optimizer_name=config[\"optimizer\"], \n",
    "                   lr_init=config[\"LR\"],\n",
    "                   lr_policy=config[\"LR_policy\"], \n",
    "                   criterion=criterion, \n",
    "                   momentum=config[\"momentum\"],\n",
    "                   checkpoint_interval=config[\"checkpoint_interval\"],\n",
    "                   resume=config[\"resume\"],\n",
    "                   resume_epoch=config[\"resume_epoch\"],\n",
    "                   **config[\"lr_prams\"])"
   ]
  },
  {
   "cell_type": "code",
   "execution_count": null,
   "id": "277737c3-62a3-41b4-ac8d-761291088364",
   "metadata": {},
   "outputs": [],
   "source": [
    "compiled_model.save(save_object=\"params\")"
   ]
  },
  {
   "cell_type": "code",
   "execution_count": null,
   "id": "d47939f6-3b6f-4c20-b06b-38594629942f",
   "metadata": {},
   "outputs": [],
   "source": [
    "metrics = compiled_model.accuracy_evaluation(val_loader, filename=config[\"val_metric_fname\"])"
   ]
  },
  {
   "cell_type": "code",
   "execution_count": null,
   "id": "cd4d3127-7d12-4821-aafe-b51aed71f3ef",
   "metadata": {},
   "outputs": [],
   "source": [
    "test_dataset = CropData(src_dir=config[\"src_dir\"],\n",
    "                       usage=\"inference\",\n",
    "                       dataset_name=config[\"train_dataset_name\"],\n",
    "                       csv_path=config[\"test_csv_path\"],\n",
    "                       apply_normalization=config[\"apply_normalization\"],\n",
    "                       normal_strategy=config[\"normal_strategy\"],\n",
    "                       stat_procedure=config[\"stat_procedure\"],\n",
    "                       global_stats=config[\"global_stats\"],)"
   ]
  },
  {
   "cell_type": "code",
   "execution_count": null,
   "id": "58aa8d2e-64ea-4cfc-b047-2721e57af62a",
   "metadata": {},
   "outputs": [],
   "source": [
    "def meta_handling_collate_fn(batch):\n",
    "    images = []\n",
    "    labels = []\n",
    "    img_ids = []\n",
    "    img_metas = []\n",
    "\n",
    "    # Unpack elements from each sample in the batch\n",
    "    for sample in batch:\n",
    "        images.append(sample[0])\n",
    "        labels.append(sample[1])\n",
    "        img_ids.append(sample[2])\n",
    "        img_metas.append(sample[3])  # append the dict to the list\n",
    "\n",
    "    # Stack images and labels into a single tensor\n",
    "    images = torch.stack(images, dim=0)\n",
    "    labels = torch.stack(labels, dim=0)\n",
    "    \n",
    "    return images, labels, img_ids, img_metas\n",
    "\n",
    "\n",
    "test_loader = DataLoader(test_dataset, \n",
    "                        batch_size=config[\"val_test_BatchSize\"], \n",
    "                        shuffle=False,\n",
    "                        collate_fn=meta_handling_collate_fn)"
   ]
  },
  {
   "cell_type": "code",
   "execution_count": null,
   "id": "1ebf9a93-0a95-4b5b-9f49-d6c5ae1a22cd",
   "metadata": {},
   "outputs": [],
   "source": [
    "model = Unet(n_classes=config[\"n_classes\"], \n",
    "             in_channels=config[\"input_channels\"], \n",
    "             use_skipAtt=config[\"use_skipAtt\"],\n",
    "             filter_config=config[\"filter_config\"],\n",
    "             dropout_rate=config[\"train_dropout_rate\"])"
   ]
  },
  {
   "cell_type": "code",
   "execution_count": null,
   "id": "349b1d98-f5d3-4f02-a27b-de8dfc17f3cb",
   "metadata": {},
   "outputs": [],
   "source": [
    "compiled_model = ModelCompiler(model,\n",
    "                               working_dir=config[\"working_dir\"],\n",
    "                               out_dir=config[\"out_dir\"],\n",
    "                               num_classes=config[\"n_classes\"],\n",
    "                               inch=config[\"input_channels\"],\n",
    "                               class_mapping=config[\"class_mapping\"],\n",
    "                               gpu_devices=config[\"gpuDevices\"],\n",
    "                               model_init_type=config[\"init_type\"], \n",
    "                               params_init=config[\"params_init\"],\n",
    "                               freeze_params=config[\"freeze_params\"])"
   ]
  },
  {
   "cell_type": "code",
   "execution_count": null,
   "id": "6aec40e5-8611-4f12-80ab-57325af8947a",
   "metadata": {},
   "outputs": [],
   "source": [
    "compiled_model.inference(test_loader, out_dir=config[\"out_dir\"])"
   ]
  },
  {
   "cell_type": "code",
   "execution_count": null,
   "id": "8b5bdad8-6ddc-4583-8525-cca5fee05edb",
   "metadata": {},
   "outputs": [],
   "source": []
  },
  {
   "cell_type": "code",
   "execution_count": null,
   "id": "8c27ea78-3d33-4348-aa87-79e3c22342a4",
   "metadata": {},
   "outputs": [],
   "source": []
  }
 ],
 "metadata": {
  "kernelspec": {
   "display_name": "Python 3 (ipykernel)",
   "language": "python",
   "name": "python3"
  },
  "language_info": {
   "codemirror_mode": {
    "name": "ipython",
    "version": 3
   },
   "file_extension": ".py",
   "mimetype": "text/x-python",
   "name": "python",
   "nbconvert_exporter": "python",
   "pygments_lexer": "ipython3",
   "version": "3.9.0"
  }
 },
 "nbformat": 4,
 "nbformat_minor": 5
}
