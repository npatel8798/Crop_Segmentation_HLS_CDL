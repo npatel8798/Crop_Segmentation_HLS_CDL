{
 "cells": [
  {
   "cell_type": "code",
   "execution_count": 1,
   "id": "5bfe5c5b-66cb-4eac-b7c5-8b6eb440a633",
   "metadata": {},
   "outputs": [
    {
     "name": "stderr",
     "output_type": "stream",
     "text": [
      "/home/npatel23/gokhale_ada/users/npatel23/conda_envs/cropclassi/lib/python3.9/site-packages/torchvision/io/image.py:13: UserWarning: Failed to load image Python extension: libtorch_cuda_cu.so: cannot open shared object file: No such file or directory\n",
      "  warn(f\"Failed to load image Python extension: {e}\")\n"
     ]
    }
   ],
   "source": [
    "import os, sys, copy, time, math, random, numbers, itertools, tqdm, importlib, re\n",
    "import numpy as np\n",
    "import numpy.ma as ma\n",
    "import pandas as pd\n",
    "import matplotlib.pyplot as plt\n",
    "import cv2\n",
    "import rasterio\n",
    "import torch\n",
    "import yaml\n",
    "from lightning.pytorch import Trainer\n",
    "from sklearn import metrics\n",
    "from skimage import transform as trans\n",
    "from pathlib import Path\n",
    "from collections.abc import Sequence\n",
    "from datetime import datetime, timedelta\n",
    "from scipy.ndimage import rotate\n",
    "import torch.nn as nn\n",
    "import torch.nn.functional as F\n",
    "from torch.nn import init\n",
    "from torch import optim\n",
    "from torch.optim.lr_scheduler import _LRScheduler\n",
    "from torch.utils.data import Dataset, DataLoader\n",
    "from torch.utils.data.sampler import SubsetRandomSampler\n",
    "from torch.utils.tensorboard import SummaryWriter\n",
    "\n",
    "from IPython.core.debugger import set_trace\n",
    "\n",
    "%load_ext autoreload\n",
    "%autoreload 2\n",
    "%matplotlib inline"
   ]
  },
  {
   "cell_type": "code",
   "execution_count": 2,
   "id": "1f9ef89c-1b5f-457a-a80c-971cc405a578",
   "metadata": {},
   "outputs": [],
   "source": [
    "\n",
    "import tempfile\n",
    "\n",
    "import timm\n",
    "from lightning.pytorch import Trainer"
   ]
  },
  {
   "cell_type": "code",
   "execution_count": 3,
   "id": "db2b59f7-5aa0-41c7-94ca-2a637eabf2e3",
   "metadata": {},
   "outputs": [
    {
     "name": "stdout",
     "output_type": "stream",
     "text": [
      "[[20 20 20 ... 20 20 20]\n",
      " [20 20 20 ... 20 20 20]\n",
      " [20 20 20 ... 20 20 20]\n",
      " ...\n",
      " [20 20 20 ... 20 20 20]\n",
      " [20 20 20 ... 20 20 14]\n",
      " [20 20 20 ... 20 20 20]]\n",
      "9\n"
     ]
    }
   ],
   "source": [
    "import rasterio\n",
    "import numpy as np\n",
    "# Specify the path to your TIFF file\n",
    "file_path = 'chip_008_030_2014-01-04.mask.tif'\n",
    "\n",
    "# Open the TIFF file\n",
    "with rasterio.open(file_path) as src:\n",
    "    # Read the raster data as a numpy array\n",
    "    data = src.read(1)\n",
    "    print(data)\n",
    "    print(np.min(data))"
   ]
  },
  {
   "cell_type": "code",
   "execution_count": 2,
   "id": "2033efcc-79c0-450d-ba11-2b4627345fbb",
   "metadata": {},
   "outputs": [
    {
     "name": "stdout",
     "output_type": "stream",
     "text": [
      "[[3 3 3 ... 4 4 4]\n",
      " [3 3 3 ... 3 3 3]\n",
      " [3 3 3 ... 3 3 3]\n",
      " ...\n",
      " [4 4 4 ... 4 4 4]\n",
      " [4 4 4 ... 4 4 4]\n",
      " [4 4 4 ... 4 4 4]]\n",
      "[1 2 3 4]\n"
     ]
    }
   ],
   "source": [
    "import rasterio\n",
    "import numpy as np\n",
    "# Specify the path to your TIFF file\n",
    "file_path = 'chip_019_056_2014-02-27.mask.tif'\n",
    "\n",
    "# Open the TIFF file\n",
    "with rasterio.open(file_path) as src:\n",
    "    # Read the raster data as a numpy array\n",
    "    data = src.read(1)\n",
    "    print(data)\n",
    "    print(np.unique(data))"
   ]
  },
  {
   "cell_type": "code",
   "execution_count": null,
   "id": "e3859644-7356-40da-a991-0b7e4bd2db6a",
   "metadata": {},
   "outputs": [],
   "source": [
    "Crop Classification Project/Crop_Segmentation_Project/chip_019_056_2014-02-27.mask.tif"
   ]
  }
 ],
 "metadata": {
  "kernelspec": {
   "display_name": "Python 3 (ipykernel)",
   "language": "python",
   "name": "python3"
  },
  "language_info": {
   "codemirror_mode": {
    "name": "ipython",
    "version": 3
   },
   "file_extension": ".py",
   "mimetype": "text/x-python",
   "name": "python",
   "nbconvert_exporter": "python",
   "pygments_lexer": "ipython3",
   "version": "3.9.0"
  }
 },
 "nbformat": 4,
 "nbformat_minor": 5
}
